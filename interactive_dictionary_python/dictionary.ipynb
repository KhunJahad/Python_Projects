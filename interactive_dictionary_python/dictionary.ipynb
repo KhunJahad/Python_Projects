{
 "cells": [
  {
   "cell_type": "code",
   "execution_count": null,
   "metadata": {},
   "outputs": [],
   "source": [
    "import json\n",
    "from difflib import get_close_matches"
   ]
  },
  {
   "cell_type": "code",
   "execution_count": null,
   "metadata": {},
   "outputs": [],
   "source": [
    "data=json.load(open(\"data.json\"))"
   ]
  },
  {
   "cell_type": "code",
   "execution_count": null,
   "metadata": {},
   "outputs": [],
   "source": [
    "def meaning(word):\n",
    "    word=word.lower()\n",
    "    if word in data.keys():\n",
    "        return data[word]\n",
    "    elif len(get_close_matches(word,data.keys()))>0:\n",
    "        ques=input(\"Do you mean {} . If Yes then press Y else N for No : \".format(get_close_matches(word,data.keys())[0]))\n",
    "        if ques==\"Y\":\n",
    "            return data[get_close_matches(word,data.keys())[0]]\n",
    "        elif ques==\"N\":\n",
    "            return \"The word doesn't exist please cross-check\"\n",
    "        else :\n",
    "            return \"We didn't understand your entry.Please double check\"\n",
    "    else:\n",
    "        return \"The word doesn't exist.Please cross check\""
   ]
  },
  {
   "cell_type": "code",
   "execution_count": null,
   "metadata": {},
   "outputs": [],
   "source": [
    "flag=0\n",
    "while(flag==0):\n",
    "    word=input(\"Enter the word : \")\n",
    "    output=meaning(word)\n",
    "    if type(output)==list:\n",
    "        for item in output:\n",
    "            print(item)\n",
    "    else:\n",
    "        print(output)\n",
    "    cont=input(\"Do you want to continue searching , Press N for no and if you want to continue enter anything: \")\n",
    "    if cont==\"N\":\n",
    "        flag=1"
   ]
  }
 ],
 "metadata": {
  "kernelspec": {
   "display_name": "Python 3",
   "language": "python",
   "name": "python3"
  },
  "language_info": {
   "codemirror_mode": {
    "name": "ipython",
    "version": 3
   },
   "file_extension": ".py",
   "mimetype": "text/x-python",
   "name": "python",
   "nbconvert_exporter": "python",
   "pygments_lexer": "ipython3",
   "version": "3.8.3"
  }
 },
 "nbformat": 4,
 "nbformat_minor": 4
}
